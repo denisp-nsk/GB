{
 "cells": [
  {
   "cell_type": "code",
   "execution_count": 1,
   "metadata": {},
   "outputs": [],
   "source": [
    "import pandas as pd\n",
    "import numpy as np"
   ]
  },
  {
   "cell_type": "code",
   "execution_count": 2,
   "metadata": {},
   "outputs": [],
   "source": [
    "from math import factorial"
   ]
  },
  {
   "cell_type": "code",
   "execution_count": 3,
   "metadata": {},
   "outputs": [],
   "source": [
    "def combinations(n, k):\n",
    "    return int(factorial(n) / (factorial(k) * factorial(n - k)))"
   ]
  },
  {
   "cell_type": "markdown",
   "metadata": {},
   "source": [
    "Даны значения зарплат из выборки выпускников: 100, 80, 75, 77, 89, 33, 45, 25, 65, 17, 30, 24, 57, 55, 70, 75, 65, 84, 90, 150. Посчитать (желательно без использования статистических методов наподобие std, var, mean) среднее арифметическое, среднее квадратичное отклонение, смещенную и несмещенную оценки дисперсий для данной выборки."
   ]
  },
  {
   "cell_type": "code",
   "execution_count": 4,
   "metadata": {},
   "outputs": [
    {
     "name": "stdout",
     "output_type": "stream",
     "text": [
      "65.3\n",
      "65.3\n",
      "30.823854398825596\n",
      "30.823854398825596\n",
      "950.11\n",
      "950.11\n",
      "1000.1157894736842\n",
      "1000.1157894736842\n"
     ]
    }
   ],
   "source": [
    "sal = pd.DataFrame([100, 80, 75, 77, 89, 33, 45, 25, 65, 17, 30, 24, 57, 55, 70, 75, 65, 84, 90, 150])\n",
    "print(sum(sal[0])/len(sal[0]))  # среднее арифметическое\n",
    "print(sal[0].mean())  # среднее арифметическое\n",
    "\n",
    "print(np.sqrt(((sal[0] - sum(sal[0])/len(sal[0]))**2).sum() / sal[0].count()))  # среднее квадратичное отклонение\n",
    "print(sal[0].std(ddof=0))  # среднее квадратичное отклонение\n",
    "\n",
    "print(((sal[0] - sum(sal[0])/len(sal[0]))**2).sum() / sal[0].count())  # смещенная оценка дисперсии\n",
    "print(sal[0].var(ddof=0))  # смещенная оценка дисперсии\n",
    "\n",
    "print(((sal[0] - sum(sal[0])/len(sal[0]))**2).sum() / (sal[0].count() - 1))  # несмещенная оценка дисперсии\n",
    "print(sal[0].var(ddof=1))  # несмещенная оценка дисперсии"
   ]
  },
  {
   "cell_type": "markdown",
   "metadata": {},
   "source": [
    "В первом ящике находится 8 мячей, из которых 5 - белые. Во втором ящике - 12 мячей, из которых 5 белых. Из первого ящика вытаскивают случайным образом два мяча, из второго - 4. Какова вероятность того, что 3 мяча белые?"
   ]
  },
  {
   "cell_type": "code",
   "execution_count": 5,
   "metadata": {},
   "outputs": [
    {
     "name": "stdout",
     "output_type": "stream",
     "text": [
      "0.3686868686868686\n"
     ]
    }
   ],
   "source": [
    "v = combinations(5,0)*combinations(3,2)/combinations(8,2) * combinations(5,3)*combinations(7,1)/combinations(12,4) #0:3\n",
    "v = v + combinations(5,1)*combinations(3,1)/combinations(8,2) * combinations(5,2)*combinations(7,2)/combinations(12,4) #1:2\n",
    "v = v + combinations(5,2)*combinations(3,0)/combinations(8,2) * combinations(5,1)*combinations(7,3)/combinations(12,4) #2:1\n",
    "print(v)"
   ]
  },
  {
   "cell_type": "markdown",
   "metadata": {},
   "source": [
    "На соревновании по биатлону один из трех спортсменов стреляет и попадает в мишень. Вероятность попадания для первого спортсмена равна 0.9, для второго — 0.8, для третьего — 0.6. Найти вероятность того, что выстрел произведен: a). первым спортсменом б). вторым спортсменом в). третьим спортсменом."
   ]
  },
  {
   "cell_type": "code",
   "execution_count": 6,
   "metadata": {},
   "outputs": [
    {
     "name": "stdout",
     "output_type": "stream",
     "text": [
      "Спортсмен 1, вероятность 0.3913043478260869\n",
      "Спортсмен 2, вероятность 0.34782608695652173\n",
      "Спортсмен 3, вероятность 0.26086956521739124\n"
     ]
    }
   ],
   "source": [
    "shot=[.9, .8, .6]\n",
    "pA = sum(shot)/len(shot) \n",
    "for i, el in enumerate(shot,1):\n",
    "    print(f\"Спортсмен {i}, вероятность {1/len(shot) * el / pA}\")"
   ]
  },
  {
   "cell_type": "markdown",
   "metadata": {},
   "source": [
    "В университет на факультеты A и B поступило равное количество студентов, а на факультет C студентов поступило столько же, сколько на A и B вместе. Вероятность того, что студент факультета A сдаст первую сессию, равна 0.8. Для студента факультета B эта вероятность равна 0.7, а для студента факультета C - 0.9. Студент сдал первую сессию. Какова вероятность, что он учится: a). на факультете A б). на факультете B в). на факультете C?"
   ]
  },
  {
   "cell_type": "code",
   "execution_count": 7,
   "metadata": {},
   "outputs": [
    {
     "name": "stdout",
     "output_type": "stream",
     "text": [
      "Вероятность того, что студент учится на факультете A: 0.24242424242424246\n",
      "Вероятность того, что студент учится на факультете B: 0.21212121212121213\n",
      "Вероятность того, что студент учится на факультете C: 0.5454545454545455\n",
      "1.0\n"
     ]
    }
   ],
   "source": [
    "stud = pd.DataFrame({'name': ['A', 'B', 'C'], 'ver': [.8, .7, .9], 'cnt': [1, 1, 2]})\n",
    "pA = 0\n",
    "for index, row in stud.iterrows():\n",
    "    pA += row['ver'] * row['cnt'] / sum(stud['cnt'])\n",
    "\n",
    "all_ver =0\n",
    "for index, row in stud.iterrows():\n",
    "    print(f'Вероятность того, что студент учится на факультете {row[\"name\"]}: {row[\"ver\"]*row[\"cnt\"]/sum(stud[\"cnt\"])/pA}') \n",
    "    all_ver += row[\"ver\"] * row[\"cnt\"] / sum(stud[\"cnt\"])/pA\n",
    "print(all_ver)\n"
   ]
  },
  {
   "cell_type": "markdown",
   "metadata": {},
   "source": [
    "Устройство состоит из трех деталей. Для первой детали вероятность выйти из строя в первый месяц равна 0.1, для второй - 0.2, для третьей - 0.25. Какова вероятность того, что в первый месяц выйдут из строя: а). все детали б). только две детали в). хотя бы одна деталь г). от одной до двух деталей?"
   ]
  },
  {
   "cell_type": "code",
   "execution_count": 8,
   "metadata": {},
   "outputs": [
    {
     "name": "stdout",
     "output_type": "stream",
     "text": [
      "Вероятность, что все детали выйдут из строя: 0.005000000000000001\n",
      "Вероятность, что 2 детали выйдут из строя: 0.08\n",
      "Вероятность, что хотя бы одна деталь выйдет из строя: 0.45999999999999996\n",
      "Вероятность, что от одной до двух деталей выйдет из строя: 0.45499999999999996\n"
     ]
    }
   ],
   "source": [
    "print(f'Вероятность, что все детали выйдут из строя: {.1*.2*.25}') \n",
    "print(f'Вероятность, что 2 детали выйдут из строя: {(1-.1)*.2*.25 + .1*(1-.2)*.25 + .1*.2*(1-.25)}') \n",
    "print(f'Вероятность, что хотя бы одна деталь выйдет из строя: {1- (1-.1)*(1-.2)*(1-.25)}') \n",
    "print(f'Вероятность, что от одной до двух деталей выйдет из строя: {1- (1-.1)*(1-.2)*(1-.25) - .1*.2*.25}') "
   ]
  },
  {
   "cell_type": "code",
   "execution_count": null,
   "metadata": {},
   "outputs": [],
   "source": []
  }
 ],
 "metadata": {
  "kernelspec": {
   "display_name": "Python 3",
   "language": "python",
   "name": "python3"
  },
  "language_info": {
   "codemirror_mode": {
    "name": "ipython",
    "version": 3
   },
   "file_extension": ".py",
   "mimetype": "text/x-python",
   "name": "python",
   "nbconvert_exporter": "python",
   "pygments_lexer": "ipython3",
   "version": "3.8.6"
  }
 },
 "nbformat": 4,
 "nbformat_minor": 4
}
